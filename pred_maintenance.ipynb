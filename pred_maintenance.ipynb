{
 "cells": [
  {
   "cell_type": "code",
   "execution_count": 1,
   "metadata": {},
   "outputs": [],
   "source": [
    "import pandas as pd\n",
    "import numpy as np\n",
    "import seaborn as sns\n",
    "import matplotlib.pyplot as plt\n",
    "\n",
    "import warnings\n",
    "warnings.filterwarnings('ignore')\n",
    "\n",
    "pd.set_option('display.max_columns', None)"
   ]
  },
  {
   "cell_type": "code",
   "execution_count": 2,
   "metadata": {},
   "outputs": [
    {
     "data": {
      "text/html": [
       "<div>\n",
       "<style scoped>\n",
       "    .dataframe tbody tr th:only-of-type {\n",
       "        vertical-align: middle;\n",
       "    }\n",
       "\n",
       "    .dataframe tbody tr th {\n",
       "        vertical-align: top;\n",
       "    }\n",
       "\n",
       "    .dataframe thead th {\n",
       "        text-align: right;\n",
       "    }\n",
       "</style>\n",
       "<table border=\"1\" class=\"dataframe\">\n",
       "  <thead>\n",
       "    <tr style=\"text-align: right;\">\n",
       "      <th></th>\n",
       "      <th>UDI</th>\n",
       "      <th>Product ID</th>\n",
       "      <th>Type</th>\n",
       "      <th>Air temperature [K]</th>\n",
       "      <th>Process temperature [K]</th>\n",
       "      <th>Rotational speed [rpm]</th>\n",
       "      <th>Torque [Nm]</th>\n",
       "      <th>Tool wear [min]</th>\n",
       "      <th>Target</th>\n",
       "      <th>Failure Type</th>\n",
       "    </tr>\n",
       "  </thead>\n",
       "  <tbody>\n",
       "    <tr>\n",
       "      <th>0</th>\n",
       "      <td>1</td>\n",
       "      <td>M14860</td>\n",
       "      <td>M</td>\n",
       "      <td>298.1</td>\n",
       "      <td>308.6</td>\n",
       "      <td>1551</td>\n",
       "      <td>42.8</td>\n",
       "      <td>0</td>\n",
       "      <td>0</td>\n",
       "      <td>No Failure</td>\n",
       "    </tr>\n",
       "    <tr>\n",
       "      <th>1</th>\n",
       "      <td>2</td>\n",
       "      <td>L47181</td>\n",
       "      <td>L</td>\n",
       "      <td>298.2</td>\n",
       "      <td>308.7</td>\n",
       "      <td>1408</td>\n",
       "      <td>46.3</td>\n",
       "      <td>3</td>\n",
       "      <td>0</td>\n",
       "      <td>No Failure</td>\n",
       "    </tr>\n",
       "    <tr>\n",
       "      <th>2</th>\n",
       "      <td>3</td>\n",
       "      <td>L47182</td>\n",
       "      <td>L</td>\n",
       "      <td>298.1</td>\n",
       "      <td>308.5</td>\n",
       "      <td>1498</td>\n",
       "      <td>49.4</td>\n",
       "      <td>5</td>\n",
       "      <td>0</td>\n",
       "      <td>No Failure</td>\n",
       "    </tr>\n",
       "    <tr>\n",
       "      <th>3</th>\n",
       "      <td>4</td>\n",
       "      <td>L47183</td>\n",
       "      <td>L</td>\n",
       "      <td>298.2</td>\n",
       "      <td>308.6</td>\n",
       "      <td>1433</td>\n",
       "      <td>39.5</td>\n",
       "      <td>7</td>\n",
       "      <td>0</td>\n",
       "      <td>No Failure</td>\n",
       "    </tr>\n",
       "    <tr>\n",
       "      <th>4</th>\n",
       "      <td>5</td>\n",
       "      <td>L47184</td>\n",
       "      <td>L</td>\n",
       "      <td>298.2</td>\n",
       "      <td>308.7</td>\n",
       "      <td>1408</td>\n",
       "      <td>40.0</td>\n",
       "      <td>9</td>\n",
       "      <td>0</td>\n",
       "      <td>No Failure</td>\n",
       "    </tr>\n",
       "  </tbody>\n",
       "</table>\n",
       "</div>"
      ],
      "text/plain": [
       "   UDI Product ID Type  Air temperature [K]  Process temperature [K]  \\\n",
       "0    1     M14860    M                298.1                    308.6   \n",
       "1    2     L47181    L                298.2                    308.7   \n",
       "2    3     L47182    L                298.1                    308.5   \n",
       "3    4     L47183    L                298.2                    308.6   \n",
       "4    5     L47184    L                298.2                    308.7   \n",
       "\n",
       "   Rotational speed [rpm]  Torque [Nm]  Tool wear [min]  Target Failure Type  \n",
       "0                    1551         42.8                0       0   No Failure  \n",
       "1                    1408         46.3                3       0   No Failure  \n",
       "2                    1498         49.4                5       0   No Failure  \n",
       "3                    1433         39.5                7       0   No Failure  \n",
       "4                    1408         40.0                9       0   No Failure  "
      ]
     },
     "execution_count": 2,
     "metadata": {},
     "output_type": "execute_result"
    }
   ],
   "source": [
    "pred_df = pd.read_csv('predictive_maintenance.csv')\n",
    "\n",
    "pred_df.head()"
   ]
  },
  {
   "cell_type": "code",
   "execution_count": 3,
   "metadata": {},
   "outputs": [
    {
     "name": "stdout",
     "output_type": "stream",
     "text": [
      "0    9661\n",
      "1     339\n",
      "Name: Target, dtype: int64\n",
      "\n",
      "No Failure                  9652\n",
      "Heat Dissipation Failure     112\n",
      "Power Failure                 95\n",
      "Overstrain Failure            78\n",
      "Tool Wear Failure             45\n",
      "Random Failures               18\n",
      "Name: Failure Type, dtype: int64\n"
     ]
    }
   ],
   "source": [
    "print(pred_df.Target.value_counts())\n",
    "print()\n",
    "print(pred_df['Failure Type'].value_counts())"
   ]
  },
  {
   "cell_type": "code",
   "execution_count": 4,
   "metadata": {},
   "outputs": [
    {
     "name": "stdout",
     "output_type": "stream",
     "text": [
      "<class 'pandas.core.frame.DataFrame'>\n",
      "RangeIndex: 10000 entries, 0 to 9999\n",
      "Data columns (total 10 columns):\n",
      " #   Column                   Non-Null Count  Dtype  \n",
      "---  ------                   --------------  -----  \n",
      " 0   UDI                      10000 non-null  int64  \n",
      " 1   Product ID               10000 non-null  object \n",
      " 2   Type                     10000 non-null  object \n",
      " 3   Air temperature [K]      10000 non-null  float64\n",
      " 4   Process temperature [K]  10000 non-null  float64\n",
      " 5   Rotational speed [rpm]   10000 non-null  int64  \n",
      " 6   Torque [Nm]              10000 non-null  float64\n",
      " 7   Tool wear [min]          10000 non-null  int64  \n",
      " 8   Target                   10000 non-null  int64  \n",
      " 9   Failure Type             10000 non-null  object \n",
      "dtypes: float64(3), int64(4), object(3)\n",
      "memory usage: 781.4+ KB\n"
     ]
    }
   ],
   "source": [
    "pred_df.info()"
   ]
  },
  {
   "cell_type": "code",
   "execution_count": 5,
   "metadata": {},
   "outputs": [
    {
     "data": {
      "text/html": [
       "<div>\n",
       "<style scoped>\n",
       "    .dataframe tbody tr th:only-of-type {\n",
       "        vertical-align: middle;\n",
       "    }\n",
       "\n",
       "    .dataframe tbody tr th {\n",
       "        vertical-align: top;\n",
       "    }\n",
       "\n",
       "    .dataframe thead th {\n",
       "        text-align: right;\n",
       "    }\n",
       "</style>\n",
       "<table border=\"1\" class=\"dataframe\">\n",
       "  <thead>\n",
       "    <tr style=\"text-align: right;\">\n",
       "      <th></th>\n",
       "      <th>UDI</th>\n",
       "      <th>Air temperature [K]</th>\n",
       "      <th>Process temperature [K]</th>\n",
       "      <th>Rotational speed [rpm]</th>\n",
       "      <th>Torque [Nm]</th>\n",
       "      <th>Tool wear [min]</th>\n",
       "      <th>Target</th>\n",
       "    </tr>\n",
       "  </thead>\n",
       "  <tbody>\n",
       "    <tr>\n",
       "      <th>count</th>\n",
       "      <td>10000.00000</td>\n",
       "      <td>10000.000000</td>\n",
       "      <td>10000.000000</td>\n",
       "      <td>10000.000000</td>\n",
       "      <td>10000.000000</td>\n",
       "      <td>10000.000000</td>\n",
       "      <td>10000.000000</td>\n",
       "    </tr>\n",
       "    <tr>\n",
       "      <th>mean</th>\n",
       "      <td>5000.50000</td>\n",
       "      <td>300.004930</td>\n",
       "      <td>310.005560</td>\n",
       "      <td>1538.776100</td>\n",
       "      <td>39.986910</td>\n",
       "      <td>107.951000</td>\n",
       "      <td>0.033900</td>\n",
       "    </tr>\n",
       "    <tr>\n",
       "      <th>std</th>\n",
       "      <td>2886.89568</td>\n",
       "      <td>2.000259</td>\n",
       "      <td>1.483734</td>\n",
       "      <td>179.284096</td>\n",
       "      <td>9.968934</td>\n",
       "      <td>63.654147</td>\n",
       "      <td>0.180981</td>\n",
       "    </tr>\n",
       "    <tr>\n",
       "      <th>min</th>\n",
       "      <td>1.00000</td>\n",
       "      <td>295.300000</td>\n",
       "      <td>305.700000</td>\n",
       "      <td>1168.000000</td>\n",
       "      <td>3.800000</td>\n",
       "      <td>0.000000</td>\n",
       "      <td>0.000000</td>\n",
       "    </tr>\n",
       "    <tr>\n",
       "      <th>25%</th>\n",
       "      <td>2500.75000</td>\n",
       "      <td>298.300000</td>\n",
       "      <td>308.800000</td>\n",
       "      <td>1423.000000</td>\n",
       "      <td>33.200000</td>\n",
       "      <td>53.000000</td>\n",
       "      <td>0.000000</td>\n",
       "    </tr>\n",
       "    <tr>\n",
       "      <th>50%</th>\n",
       "      <td>5000.50000</td>\n",
       "      <td>300.100000</td>\n",
       "      <td>310.100000</td>\n",
       "      <td>1503.000000</td>\n",
       "      <td>40.100000</td>\n",
       "      <td>108.000000</td>\n",
       "      <td>0.000000</td>\n",
       "    </tr>\n",
       "    <tr>\n",
       "      <th>75%</th>\n",
       "      <td>7500.25000</td>\n",
       "      <td>301.500000</td>\n",
       "      <td>311.100000</td>\n",
       "      <td>1612.000000</td>\n",
       "      <td>46.800000</td>\n",
       "      <td>162.000000</td>\n",
       "      <td>0.000000</td>\n",
       "    </tr>\n",
       "    <tr>\n",
       "      <th>max</th>\n",
       "      <td>10000.00000</td>\n",
       "      <td>304.500000</td>\n",
       "      <td>313.800000</td>\n",
       "      <td>2886.000000</td>\n",
       "      <td>76.600000</td>\n",
       "      <td>253.000000</td>\n",
       "      <td>1.000000</td>\n",
       "    </tr>\n",
       "  </tbody>\n",
       "</table>\n",
       "</div>"
      ],
      "text/plain": [
       "               UDI  Air temperature [K]  Process temperature [K]  \\\n",
       "count  10000.00000         10000.000000             10000.000000   \n",
       "mean    5000.50000           300.004930               310.005560   \n",
       "std     2886.89568             2.000259                 1.483734   \n",
       "min        1.00000           295.300000               305.700000   \n",
       "25%     2500.75000           298.300000               308.800000   \n",
       "50%     5000.50000           300.100000               310.100000   \n",
       "75%     7500.25000           301.500000               311.100000   \n",
       "max    10000.00000           304.500000               313.800000   \n",
       "\n",
       "       Rotational speed [rpm]   Torque [Nm]  Tool wear [min]        Target  \n",
       "count            10000.000000  10000.000000     10000.000000  10000.000000  \n",
       "mean              1538.776100     39.986910       107.951000      0.033900  \n",
       "std                179.284096      9.968934        63.654147      0.180981  \n",
       "min               1168.000000      3.800000         0.000000      0.000000  \n",
       "25%               1423.000000     33.200000        53.000000      0.000000  \n",
       "50%               1503.000000     40.100000       108.000000      0.000000  \n",
       "75%               1612.000000     46.800000       162.000000      0.000000  \n",
       "max               2886.000000     76.600000       253.000000      1.000000  "
      ]
     },
     "execution_count": 5,
     "metadata": {},
     "output_type": "execute_result"
    }
   ],
   "source": [
    "pred_df.describe()"
   ]
  },
  {
   "cell_type": "code",
   "execution_count": 6,
   "metadata": {},
   "outputs": [
    {
     "data": {
      "text/plain": [
       "10000"
      ]
     },
     "execution_count": 6,
     "metadata": {},
     "output_type": "execute_result"
    }
   ],
   "source": [
    "pred_df['Product ID'].nunique()"
   ]
  },
  {
   "cell_type": "code",
   "execution_count": 7,
   "metadata": {},
   "outputs": [],
   "source": [
    "# Dropping UDI and Product ID columns\n",
    "\n",
    "pred_df.drop(['UDI', 'Product ID'], axis=1, inplace=True)"
   ]
  },
  {
   "cell_type": "code",
   "execution_count": 8,
   "metadata": {},
   "outputs": [
    {
     "data": {
      "text/html": [
       "<div>\n",
       "<style scoped>\n",
       "    .dataframe tbody tr th:only-of-type {\n",
       "        vertical-align: middle;\n",
       "    }\n",
       "\n",
       "    .dataframe tbody tr th {\n",
       "        vertical-align: top;\n",
       "    }\n",
       "\n",
       "    .dataframe thead th {\n",
       "        text-align: right;\n",
       "    }\n",
       "</style>\n",
       "<table border=\"1\" class=\"dataframe\">\n",
       "  <thead>\n",
       "    <tr style=\"text-align: right;\">\n",
       "      <th></th>\n",
       "      <th>Type</th>\n",
       "      <th>Air temperature [K]</th>\n",
       "      <th>Process temperature [K]</th>\n",
       "      <th>Rotational speed [rpm]</th>\n",
       "      <th>Torque [Nm]</th>\n",
       "      <th>Tool wear [min]</th>\n",
       "      <th>Target</th>\n",
       "      <th>Failure Type</th>\n",
       "    </tr>\n",
       "  </thead>\n",
       "  <tbody>\n",
       "    <tr>\n",
       "      <th>0</th>\n",
       "      <td>M</td>\n",
       "      <td>298.1</td>\n",
       "      <td>308.6</td>\n",
       "      <td>1551</td>\n",
       "      <td>42.8</td>\n",
       "      <td>0</td>\n",
       "      <td>0</td>\n",
       "      <td>No Failure</td>\n",
       "    </tr>\n",
       "    <tr>\n",
       "      <th>1</th>\n",
       "      <td>L</td>\n",
       "      <td>298.2</td>\n",
       "      <td>308.7</td>\n",
       "      <td>1408</td>\n",
       "      <td>46.3</td>\n",
       "      <td>3</td>\n",
       "      <td>0</td>\n",
       "      <td>No Failure</td>\n",
       "    </tr>\n",
       "    <tr>\n",
       "      <th>2</th>\n",
       "      <td>L</td>\n",
       "      <td>298.1</td>\n",
       "      <td>308.5</td>\n",
       "      <td>1498</td>\n",
       "      <td>49.4</td>\n",
       "      <td>5</td>\n",
       "      <td>0</td>\n",
       "      <td>No Failure</td>\n",
       "    </tr>\n",
       "    <tr>\n",
       "      <th>3</th>\n",
       "      <td>L</td>\n",
       "      <td>298.2</td>\n",
       "      <td>308.6</td>\n",
       "      <td>1433</td>\n",
       "      <td>39.5</td>\n",
       "      <td>7</td>\n",
       "      <td>0</td>\n",
       "      <td>No Failure</td>\n",
       "    </tr>\n",
       "    <tr>\n",
       "      <th>4</th>\n",
       "      <td>L</td>\n",
       "      <td>298.2</td>\n",
       "      <td>308.7</td>\n",
       "      <td>1408</td>\n",
       "      <td>40.0</td>\n",
       "      <td>9</td>\n",
       "      <td>0</td>\n",
       "      <td>No Failure</td>\n",
       "    </tr>\n",
       "  </tbody>\n",
       "</table>\n",
       "</div>"
      ],
      "text/plain": [
       "  Type  Air temperature [K]  Process temperature [K]  Rotational speed [rpm]  \\\n",
       "0    M                298.1                    308.6                    1551   \n",
       "1    L                298.2                    308.7                    1408   \n",
       "2    L                298.1                    308.5                    1498   \n",
       "3    L                298.2                    308.6                    1433   \n",
       "4    L                298.2                    308.7                    1408   \n",
       "\n",
       "   Torque [Nm]  Tool wear [min]  Target Failure Type  \n",
       "0         42.8                0       0   No Failure  \n",
       "1         46.3                3       0   No Failure  \n",
       "2         49.4                5       0   No Failure  \n",
       "3         39.5                7       0   No Failure  \n",
       "4         40.0                9       0   No Failure  "
      ]
     },
     "execution_count": 8,
     "metadata": {},
     "output_type": "execute_result"
    }
   ],
   "source": [
    "pred_df.head()"
   ]
  },
  {
   "cell_type": "markdown",
   "metadata": {},
   "source": [
    "## Let's start with some basic EDA"
   ]
  },
  {
   "cell_type": "code",
   "execution_count": 9,
   "metadata": {},
   "outputs": [
    {
     "data": {
      "text/plain": [
       "L    6000\n",
       "M    2997\n",
       "H    1003\n",
       "Name: Type, dtype: int64"
      ]
     },
     "execution_count": 9,
     "metadata": {},
     "output_type": "execute_result"
    }
   ],
   "source": [
    "pred_df['Type'].value_counts()"
   ]
  },
  {
   "cell_type": "code",
   "execution_count": 10,
   "metadata": {},
   "outputs": [
    {
     "data": {
      "text/plain": [
       "<AxesSubplot:xlabel='Type', ylabel='count'>"
      ]
     },
     "execution_count": 10,
     "metadata": {},
     "output_type": "execute_result"
    },
    {
     "data": {
      "image/png": "[encoded data removed]",
      "text/plain": [
       "<Figure size 864x576 with 1 Axes>"
      ]
     },
     "metadata": {
      "needs_background": "light"
     },
     "output_type": "display_data"
    }
   ],
   "source": [
    "plt.figure(figsize=(12, 8))\n",
    "sns.countplot(data = pred_df, x = 'Type', hue = 'Target')"
   ]
  },
  {
   "cell_type": "code",
   "execution_count": 11,
   "metadata": {},
   "outputs": [
    {
     "data": {
      "text/plain": [
       "Index(['Type', 'Air temperature [K]', 'Process temperature [K]',\n",
       "       'Rotational speed [rpm]', 'Torque [Nm]', 'Tool wear [min]', 'Target',\n",
       "       'Failure Type'],\n",
       "      dtype='object')"
      ]
     },
     "execution_count": 11,
     "metadata": {},
     "output_type": "execute_result"
    }
   ],
   "source": [
    "pred_df.columns"
   ]
  },
  {
   "cell_type": "code",
   "execution_count": 12,
   "metadata": {},
   "outputs": [
    {
     "data": {
      "text/html": [
       "<div>\n",
       "<style scoped>\n",
       "    .dataframe tbody tr th:only-of-type {\n",
       "        vertical-align: middle;\n",
       "    }\n",
       "\n",
       "    .dataframe tbody tr th {\n",
       "        vertical-align: top;\n",
       "    }\n",
       "\n",
       "    .dataframe thead th {\n",
       "        text-align: right;\n",
       "    }\n",
       "</style>\n",
       "<table border=\"1\" class=\"dataframe\">\n",
       "  <thead>\n",
       "    <tr style=\"text-align: right;\">\n",
       "      <th></th>\n",
       "      <th></th>\n",
       "      <th>Air temperature [K]</th>\n",
       "      <th>Process temperature [K]</th>\n",
       "      <th>Rotational speed [rpm]</th>\n",
       "      <th>Tool wear [min]</th>\n",
       "      <th>Torque [Nm]</th>\n",
       "    </tr>\n",
       "    <tr>\n",
       "      <th>Type</th>\n",
       "      <th>Failure Type</th>\n",
       "      <th></th>\n",
       "      <th></th>\n",
       "      <th></th>\n",
       "      <th></th>\n",
       "      <th></th>\n",
       "    </tr>\n",
       "  </thead>\n",
       "  <tbody>\n",
       "    <tr>\n",
       "      <th rowspan=\"6\" valign=\"top\">H</th>\n",
       "      <th>Heat Dissipation Failure</th>\n",
       "      <td>302.700000</td>\n",
       "      <td>310.950000</td>\n",
       "      <td>1322.375000</td>\n",
       "      <td>87.750000</td>\n",
       "      <td>55.137500</td>\n",
       "    </tr>\n",
       "    <tr>\n",
       "      <th>No Failure</th>\n",
       "      <td>299.834423</td>\n",
       "      <td>309.914402</td>\n",
       "      <td>1540.232891</td>\n",
       "      <td>106.781410</td>\n",
       "      <td>39.601124</td>\n",
       "    </tr>\n",
       "    <tr>\n",
       "      <th>Overstrain Failure</th>\n",
       "      <td>302.800000</td>\n",
       "      <td>312.400000</td>\n",
       "      <td>1411.000000</td>\n",
       "      <td>246.000000</td>\n",
       "      <td>53.800000</td>\n",
       "    </tr>\n",
       "    <tr>\n",
       "      <th>Power Failure</th>\n",
       "      <td>300.440000</td>\n",
       "      <td>310.160000</td>\n",
       "      <td>1581.600000</td>\n",
       "      <td>141.800000</td>\n",
       "      <td>56.360000</td>\n",
       "    </tr>\n",
       "    <tr>\n",
       "      <th>Random Failures</th>\n",
       "      <td>300.825000</td>\n",
       "      <td>310.650000</td>\n",
       "      <td>1505.750000</td>\n",
       "      <td>55.250000</td>\n",
       "      <td>41.275000</td>\n",
       "    </tr>\n",
       "    <tr>\n",
       "      <th>Tool Wear Failure</th>\n",
       "      <td>299.800000</td>\n",
       "      <td>309.316667</td>\n",
       "      <td>1492.166667</td>\n",
       "      <td>220.833333</td>\n",
       "      <td>41.083333</td>\n",
       "    </tr>\n",
       "    <tr>\n",
       "      <th rowspan=\"6\" valign=\"top\">L</th>\n",
       "      <th>Heat Dissipation Failure</th>\n",
       "      <td>302.582432</td>\n",
       "      <td>310.813514</td>\n",
       "      <td>1336.256757</td>\n",
       "      <td>106.932432</td>\n",
       "      <td>52.982432</td>\n",
       "    </tr>\n",
       "    <tr>\n",
       "      <th>No Failure</th>\n",
       "      <td>299.982717</td>\n",
       "      <td>310.000017</td>\n",
       "      <td>1541.947195</td>\n",
       "      <td>106.682300</td>\n",
       "      <td>39.544120</td>\n",
       "    </tr>\n",
       "    <tr>\n",
       "      <th>Overstrain Failure</th>\n",
       "      <td>299.787671</td>\n",
       "      <td>309.997260</td>\n",
       "      <td>1356.246575</td>\n",
       "      <td>208.109589</td>\n",
       "      <td>56.597260</td>\n",
       "    </tr>\n",
       "    <tr>\n",
       "      <th>Power Failure</th>\n",
       "      <td>299.949153</td>\n",
       "      <td>309.918644</td>\n",
       "      <td>1780.101695</td>\n",
       "      <td>100.355932</td>\n",
       "      <td>47.706780</td>\n",
       "    </tr>\n",
       "    <tr>\n",
       "      <th>Random Failures</th>\n",
       "      <td>301.116667</td>\n",
       "      <td>311.125000</td>\n",
       "      <td>1475.083333</td>\n",
       "      <td>142.500000</td>\n",
       "      <td>45.350000</td>\n",
       "    </tr>\n",
       "    <tr>\n",
       "      <th>Tool Wear Failure</th>\n",
       "      <td>300.340000</td>\n",
       "      <td>310.200000</td>\n",
       "      <td>1568.360000</td>\n",
       "      <td>214.680000</td>\n",
       "      <td>36.516000</td>\n",
       "    </tr>\n",
       "    <tr>\n",
       "      <th rowspan=\"6\" valign=\"top\">M</th>\n",
       "      <th>Heat Dissipation Failure</th>\n",
       "      <td>302.496667</td>\n",
       "      <td>310.723333</td>\n",
       "      <td>1346.333333</td>\n",
       "      <td>113.566667</td>\n",
       "      <td>51.646667</td>\n",
       "    </tr>\n",
       "    <tr>\n",
       "      <th>No Failure</th>\n",
       "      <td>299.999863</td>\n",
       "      <td>310.009979</td>\n",
       "      <td>1537.151235</td>\n",
       "      <td>106.637860</td>\n",
       "      <td>39.790432</td>\n",
       "    </tr>\n",
       "    <tr>\n",
       "      <th>Overstrain Failure</th>\n",
       "      <td>300.600000</td>\n",
       "      <td>310.450000</td>\n",
       "      <td>1303.500000</td>\n",
       "      <td>200.750000</td>\n",
       "      <td>62.775000</td>\n",
       "    </tr>\n",
       "    <tr>\n",
       "      <th>Power Failure</th>\n",
       "      <td>300.258065</td>\n",
       "      <td>309.990323</td>\n",
       "      <td>1762.677419</td>\n",
       "      <td>98.354839</td>\n",
       "      <td>48.787097</td>\n",
       "    </tr>\n",
       "    <tr>\n",
       "      <th>Random Failures</th>\n",
       "      <td>298.550000</td>\n",
       "      <td>308.750000</td>\n",
       "      <td>1543.000000</td>\n",
       "      <td>113.500000</td>\n",
       "      <td>37.050000</td>\n",
       "    </tr>\n",
       "    <tr>\n",
       "      <th>Tool Wear Failure</th>\n",
       "      <td>300.407143</td>\n",
       "      <td>310.464286</td>\n",
       "      <td>1608.428571</td>\n",
       "      <td>218.071429</td>\n",
       "      <td>36.842857</td>\n",
       "    </tr>\n",
       "  </tbody>\n",
       "</table>\n",
       "</div>"
      ],
      "text/plain": [
       "                               Air temperature [K]  Process temperature [K]  \\\n",
       "Type Failure Type                                                             \n",
       "H    Heat Dissipation Failure           302.700000               310.950000   \n",
       "     No Failure                         299.834423               309.914402   \n",
       "     Overstrain Failure                 302.800000               312.400000   \n",
       "     Power Failure                      300.440000               310.160000   \n",
       "     Random Failures                    300.825000               310.650000   \n",
       "     Tool Wear Failure                  299.800000               309.316667   \n",
       "L    Heat Dissipation Failure           302.582432               310.813514   \n",
       "     No Failure                         299.982717               310.000017   \n",
       "     Overstrain Failure                 299.787671               309.997260   \n",
       "     Power Failure                      299.949153               309.918644   \n",
       "     Random Failures                    301.116667               311.125000   \n",
       "     Tool Wear Failure                  300.340000               310.200000   \n",
       "M    Heat Dissipation Failure           302.496667               310.723333   \n",
       "     No Failure                         299.999863               310.009979   \n",
       "     Overstrain Failure                 300.600000               310.450000   \n",
       "     Power Failure                      300.258065               309.990323   \n",
       "     Random Failures                    298.550000               308.750000   \n",
       "     Tool Wear Failure                  300.407143               310.464286   \n",
       "\n",
       "                               Rotational speed [rpm]  Tool wear [min]  \\\n",
       "Type Failure Type                                                        \n",
       "H    Heat Dissipation Failure             1322.375000        87.750000   \n",
       "     No Failure                           1540.232891       106.781410   \n",
       "     Overstrain Failure                   1411.000000       246.000000   \n",
       "     Power Failure                        1581.600000       141.800000   \n",
       "     Random Failures                      1505.750000        55.250000   \n",
       "     Tool Wear Failure                    1492.166667       220.833333   \n",
       "L    Heat Dissipation Failure             1336.256757       106.932432   \n",
       "     No Failure                           1541.947195       106.682300   \n",
       "     Overstrain Failure                   1356.246575       208.109589   \n",
       "     Power Failure                        1780.101695       100.355932   \n",
       "     Random Failures                      1475.083333       142.500000   \n",
       "     Tool Wear Failure                    1568.360000       214.680000   \n",
       "M    Heat Dissipation Failure             1346.333333       113.566667   \n",
       "     No Failure                           1537.151235       106.637860   \n",
       "     Overstrain Failure                   1303.500000       200.750000   \n",
       "     Power Failure                        1762.677419        98.354839   \n",
       "     Random Failures                      1543.000000       113.500000   \n",
       "     Tool Wear Failure                    1608.428571       218.071429   \n",
       "\n",
       "                               Torque [Nm]  \n",
       "Type Failure Type                           \n",
       "H    Heat Dissipation Failure    55.137500  \n",
       "     No Failure                  39.601124  \n",
       "     Overstrain Failure          53.800000  \n",
       "     Power Failure               56.360000  \n",
       "     Random Failures             41.275000  \n",
       "     Tool Wear Failure           41.083333  \n",
       "L    Heat Dissipation Failure    52.982432  \n",
       "     No Failure                  39.544120  \n",
       "     Overstrain Failure          56.597260  \n",
       "     Power Failure               47.706780  \n",
       "     Random Failures             45.350000  \n",
       "     Tool Wear Failure           36.516000  \n",
       "M    Heat Dissipation Failure    51.646667  \n",
       "     No Failure                  39.790432  \n",
       "     Overstrain Failure          62.775000  \n",
       "     Power Failure               48.787097  \n",
       "     Random Failures             37.050000  \n",
       "     Tool Wear Failure           36.842857  "
      ]
     },
     "execution_count": 12,
     "metadata": {},
     "output_type": "execute_result"
    }
   ],
   "source": [
    "pred_df.pivot_table(index=['Type', 'Failure Type'], \n",
    "                    values=['Air temperature [K]', 'Process temperature [K]', 'Rotational speed [rpm]', 'Torque [Nm]', 'Tool wear [min]'], \n",
    "                    aggfunc = 'mean')"
   ]
  },
  {
   "cell_type": "code",
   "execution_count": 13,
   "metadata": {},
   "outputs": [
    {
     "data": {
      "text/plain": [
       "<AxesSubplot:xlabel='Failure Type', ylabel='count'>"
      ]
     },
     "execution_count": 13,
     "metadata": {},
     "output_type": "execute_result"
    },
    {
     "data": {
      "image/png": "[encoded data removed]",
      "text/plain": [
       "<Figure size 1080x576 with 1 Axes>"
      ]
     },
     "metadata": {
      "needs_background": "light"
     },
     "output_type": "display_data"
    }
   ],
   "source": [
    "plt.figure(figsize=(15, 8))\n",
    "sns.countplot(x = 'Failure Type', hue = 'Type', data = pred_df)"
   ]
  },
  {
   "cell_type": "code",
   "execution_count": 14,
   "metadata": {},
   "outputs": [
    {
     "data": {
      "image/png": "[encoded data removed]",
      "text/plain": [
       "<Figure size 1080x432 with 1 Axes>"
      ]
     },
     "metadata": {
      "needs_background": "light"
     },
     "output_type": "display_data"
    },
    {
     "data": {
      "image/png": "[encoded data removed]",
      "text/plain": [
       "<Figure size 1080x432 with 1 Axes>"
      ]
     },
     "metadata": {
      "needs_background": "light"
     },
     "output_type": "display_data"
    },
    {
     "data": {
      "image/png": "[encoded data removed]",
      "text/plain": [
       "<Figure size 1080x432 with 1 Axes>"
      ]
     },
     "metadata": {
      "needs_background": "light"
     },
     "output_type": "display_data"
    },
    {
     "data": {
      "image/png": "[encoded data removed]",
      "text/plain": [
       "<Figure size 1080x432 with 1 Axes>"
      ]
     },
     "metadata": {
      "needs_background": "light"
     },
     "output_type": "display_data"
    },
    {
     "data": {
      "image/png": "[encoded data removed]",
      "text/plain": [
       "<Figure size 1080x432 with 1 Axes>"
      ]
     },
     "metadata": {
      "needs_background": "light"
     },
     "output_type": "display_data"
    },
    {
     "data": {
      "image/png": "[encoded data removed]",
      "text/plain": [
       "<Figure size 1080x432 with 1 Axes>"
      ]
     },
     "metadata": {
      "needs_background": "light"
     },
     "output_type": "display_data"
    }
   ],
   "source": [
    "for col in pred_df.select_dtypes('number'): \n",
    "    plt.figure(figsize=(15, 6))\n",
    "    sns.boxplot(pred_df[col])\n",
    "    plt.show()"
   ]
  },
  {
   "cell_type": "code",
   "execution_count": 15,
   "metadata": {},
   "outputs": [
    {
     "data": {
      "text/html": [
       "<div>\n",
       "<style scoped>\n",
       "    .dataframe tbody tr th:only-of-type {\n",
       "        vertical-align: middle;\n",
       "    }\n",
       "\n",
       "    .dataframe tbody tr th {\n",
       "        vertical-align: top;\n",
       "    }\n",
       "\n",
       "    .dataframe thead th {\n",
       "        text-align: right;\n",
       "    }\n",
       "</style>\n",
       "<table border=\"1\" class=\"dataframe\">\n",
       "  <thead>\n",
       "    <tr style=\"text-align: right;\">\n",
       "      <th></th>\n",
       "      <th>Rotational speed [rpm]</th>\n",
       "      <th>Torque [Nm]</th>\n",
       "    </tr>\n",
       "    <tr>\n",
       "      <th>Failure Type</th>\n",
       "      <th></th>\n",
       "      <th></th>\n",
       "    </tr>\n",
       "  </thead>\n",
       "  <tbody>\n",
       "    <tr>\n",
       "      <th>Heat Dissipation Failure</th>\n",
       "      <td>1337.964286</td>\n",
       "      <td>52.778571</td>\n",
       "    </tr>\n",
       "    <tr>\n",
       "      <th>No Failure</th>\n",
       "      <td>1540.324389</td>\n",
       "      <td>39.624316</td>\n",
       "    </tr>\n",
       "    <tr>\n",
       "      <th>Overstrain Failure</th>\n",
       "      <td>1354.243590</td>\n",
       "      <td>56.878205</td>\n",
       "    </tr>\n",
       "    <tr>\n",
       "      <th>Power Failure</th>\n",
       "      <td>1763.968421</td>\n",
       "      <td>48.514737</td>\n",
       "    </tr>\n",
       "    <tr>\n",
       "      <th>Random Failures</th>\n",
       "      <td>1489.444444</td>\n",
       "      <td>43.522222</td>\n",
       "    </tr>\n",
       "    <tr>\n",
       "      <th>Tool Wear Failure</th>\n",
       "      <td>1570.666667</td>\n",
       "      <td>37.226667</td>\n",
       "    </tr>\n",
       "  </tbody>\n",
       "</table>\n",
       "</div>"
      ],
      "text/plain": [
       "                          Rotational speed [rpm]  Torque [Nm]\n",
       "Failure Type                                                 \n",
       "Heat Dissipation Failure             1337.964286    52.778571\n",
       "No Failure                           1540.324389    39.624316\n",
       "Overstrain Failure                   1354.243590    56.878205\n",
       "Power Failure                        1763.968421    48.514737\n",
       "Random Failures                      1489.444444    43.522222\n",
       "Tool Wear Failure                    1570.666667    37.226667"
      ]
     },
     "execution_count": 15,
     "metadata": {},
     "output_type": "execute_result"
    }
   ],
   "source": [
    "# We have a lot of outliers in Torque and Rotational Speed\n",
    "# Let's check in pivot table\n",
    "\n",
    "pred_df.pivot_table(index = 'Failure Type', values = ['Rotational speed [rpm]', 'Torque [Nm]'], aggfunc = 'mean')"
   ]
  },
  {
   "cell_type": "code",
   "execution_count": 16,
   "metadata": {},
   "outputs": [
    {
     "data": {
      "text/html": [
       "<div>\n",
       "<style scoped>\n",
       "    .dataframe tbody tr th:only-of-type {\n",
       "        vertical-align: middle;\n",
       "    }\n",
       "\n",
       "    .dataframe tbody tr th {\n",
       "        vertical-align: top;\n",
       "    }\n",
       "\n",
       "    .dataframe thead th {\n",
       "        text-align: right;\n",
       "    }\n",
       "</style>\n",
       "<table border=\"1\" class=\"dataframe\">\n",
       "  <thead>\n",
       "    <tr style=\"text-align: right;\">\n",
       "      <th></th>\n",
       "      <th>Air temperature [K]</th>\n",
       "      <th>Process temperature [K]</th>\n",
       "      <th>Rotational speed [rpm]</th>\n",
       "      <th>Tool wear [min]</th>\n",
       "      <th>Torque [Nm]</th>\n",
       "    </tr>\n",
       "    <tr>\n",
       "      <th>Target</th>\n",
       "      <th></th>\n",
       "      <th></th>\n",
       "      <th></th>\n",
       "      <th></th>\n",
       "      <th></th>\n",
       "    </tr>\n",
       "  </thead>\n",
       "  <tbody>\n",
       "    <tr>\n",
       "      <th>0</th>\n",
       "      <td>299.973999</td>\n",
       "      <td>309.995570</td>\n",
       "      <td>1540.260014</td>\n",
       "      <td>106.693717</td>\n",
       "      <td>39.629655</td>\n",
       "    </tr>\n",
       "    <tr>\n",
       "      <th>1</th>\n",
       "      <td>300.886431</td>\n",
       "      <td>310.290265</td>\n",
       "      <td>1496.486726</td>\n",
       "      <td>143.781711</td>\n",
       "      <td>50.168142</td>\n",
       "    </tr>\n",
       "  </tbody>\n",
       "</table>\n",
       "</div>"
      ],
      "text/plain": [
       "        Air temperature [K]  Process temperature [K]  Rotational speed [rpm]  \\\n",
       "Target                                                                         \n",
       "0                299.973999               309.995570             1540.260014   \n",
       "1                300.886431               310.290265             1496.486726   \n",
       "\n",
       "        Tool wear [min]  Torque [Nm]  \n",
       "Target                                \n",
       "0            106.693717    39.629655  \n",
       "1            143.781711    50.168142  "
      ]
     },
     "execution_count": 16,
     "metadata": {},
     "output_type": "execute_result"
    }
   ],
   "source": [
    "pred_df.pivot_table(index='Target', aggfunc='mean')"
   ]
  },
  {
   "cell_type": "markdown",
   "metadata": {},
   "source": [
    "#### There is some significant difference between the avg values of Rotational speed, Tool wear and Torque for two classes\n",
    "#### However, as the dataset is imbalanced, we cannot conclude anything for now"
   ]
  },
  {
   "cell_type": "code",
   "execution_count": 17,
   "metadata": {},
   "outputs": [
    {
     "data": {
      "text/html": [
       "<div>\n",
       "<style scoped>\n",
       "    .dataframe tbody tr th:only-of-type {\n",
       "        vertical-align: middle;\n",
       "    }\n",
       "\n",
       "    .dataframe tbody tr th {\n",
       "        vertical-align: top;\n",
       "    }\n",
       "\n",
       "    .dataframe thead th {\n",
       "        text-align: right;\n",
       "    }\n",
       "</style>\n",
       "<table border=\"1\" class=\"dataframe\">\n",
       "  <thead>\n",
       "    <tr style=\"text-align: right;\">\n",
       "      <th></th>\n",
       "      <th></th>\n",
       "      <th>Air temperature [K]</th>\n",
       "      <th>Process temperature [K]</th>\n",
       "      <th>Rotational speed [rpm]</th>\n",
       "      <th>Tool wear [min]</th>\n",
       "      <th>Torque [Nm]</th>\n",
       "      <th>Type</th>\n",
       "    </tr>\n",
       "    <tr>\n",
       "      <th>Target</th>\n",
       "      <th>Failure Type</th>\n",
       "      <th></th>\n",
       "      <th></th>\n",
       "      <th></th>\n",
       "      <th></th>\n",
       "      <th></th>\n",
       "      <th></th>\n",
       "    </tr>\n",
       "  </thead>\n",
       "  <tbody>\n",
       "    <tr>\n",
       "      <th rowspan=\"2\" valign=\"top\">0</th>\n",
       "      <th>No Failure</th>\n",
       "      <td>9643</td>\n",
       "      <td>9643</td>\n",
       "      <td>9643</td>\n",
       "      <td>9643</td>\n",
       "      <td>9643</td>\n",
       "      <td>9643</td>\n",
       "    </tr>\n",
       "    <tr>\n",
       "      <th>Random Failures</th>\n",
       "      <td>18</td>\n",
       "      <td>18</td>\n",
       "      <td>18</td>\n",
       "      <td>18</td>\n",
       "      <td>18</td>\n",
       "      <td>18</td>\n",
       "    </tr>\n",
       "    <tr>\n",
       "      <th rowspan=\"5\" valign=\"top\">1</th>\n",
       "      <th>Heat Dissipation Failure</th>\n",
       "      <td>112</td>\n",
       "      <td>112</td>\n",
       "      <td>112</td>\n",
       "      <td>112</td>\n",
       "      <td>112</td>\n",
       "      <td>112</td>\n",
       "    </tr>\n",
       "    <tr>\n",
       "      <th>No Failure</th>\n",
       "      <td>9</td>\n",
       "      <td>9</td>\n",
       "      <td>9</td>\n",
       "      <td>9</td>\n",
       "      <td>9</td>\n",
       "      <td>9</td>\n",
       "    </tr>\n",
       "    <tr>\n",
       "      <th>Overstrain Failure</th>\n",
       "      <td>78</td>\n",
       "      <td>78</td>\n",
       "      <td>78</td>\n",
       "      <td>78</td>\n",
       "      <td>78</td>\n",
       "      <td>78</td>\n",
       "    </tr>\n",
       "    <tr>\n",
       "      <th>Power Failure</th>\n",
       "      <td>95</td>\n",
       "      <td>95</td>\n",
       "      <td>95</td>\n",
       "      <td>95</td>\n",
       "      <td>95</td>\n",
       "      <td>95</td>\n",
       "    </tr>\n",
       "    <tr>\n",
       "      <th>Tool Wear Failure</th>\n",
       "      <td>45</td>\n",
       "      <td>45</td>\n",
       "      <td>45</td>\n",
       "      <td>45</td>\n",
       "      <td>45</td>\n",
       "      <td>45</td>\n",
       "    </tr>\n",
       "  </tbody>\n",
       "</table>\n",
       "</div>"
      ],
      "text/plain": [
       "                                 Air temperature [K]  Process temperature [K]  \\\n",
       "Target Failure Type                                                             \n",
       "0      No Failure                               9643                     9643   \n",
       "       Random Failures                            18                       18   \n",
       "1      Heat Dissipation Failure                  112                      112   \n",
       "       No Failure                                  9                        9   \n",
       "       Overstrain Failure                         78                       78   \n",
       "       Power Failure                              95                       95   \n",
       "       Tool Wear Failure                          45                       45   \n",
       "\n",
       "                                 Rotational speed [rpm]  Tool wear [min]  \\\n",
       "Target Failure Type                                                        \n",
       "0      No Failure                                  9643             9643   \n",
       "       Random Failures                               18               18   \n",
       "1      Heat Dissipation Failure                     112              112   \n",
       "       No Failure                                     9                9   \n",
       "       Overstrain Failure                            78               78   \n",
       "       Power Failure                                 95               95   \n",
       "       Tool Wear Failure                             45               45   \n",
       "\n",
       "                                 Torque [Nm]  Type  \n",
       "Target Failure Type                                 \n",
       "0      No Failure                       9643  9643  \n",
       "       Random Failures                    18    18  \n",
       "1      Heat Dissipation Failure          112   112  \n",
       "       No Failure                          9     9  \n",
       "       Overstrain Failure                 78    78  \n",
       "       Power Failure                      95    95  \n",
       "       Tool Wear Failure                  45    45  "
      ]
     },
     "execution_count": 17,
     "metadata": {},
     "output_type": "execute_result"
    }
   ],
   "source": [
    "pred_df.pivot_table(index=['Target', 'Failure Type'], aggfunc='count')"
   ]
  },
  {
   "cell_type": "markdown",
   "metadata": {},
   "source": [
    "### We see that we have some values of No Failure in class 1 as well. \n",
    "### Also, there is no random failure in class 1\n",
    "### We will delete the rows for No Failure from class 1 as both of these contradict"
   ]
  },
  {
   "cell_type": "code",
   "execution_count": 22,
   "metadata": {},
   "outputs": [
    {
     "data": {
      "text/plain": [
       "Int64Index([1437, 2749, 4044, 4684, 5536, 5941, 6478, 8506, 9015], dtype='int64')"
      ]
     },
     "execution_count": 22,
     "metadata": {},
     "output_type": "execute_result"
    }
   ],
   "source": [
    "pred_df[ (pred_df['Target'] == 1) & (pred_df['Failure Type'] == 'No Failure') ].index"
   ]
  },
  {
   "cell_type": "code",
   "execution_count": 23,
   "metadata": {},
   "outputs": [],
   "source": [
    "pred_df.drop([1437, 2749, 4044, 4684, 5536, 5941, 6478, 8506, 9015], axis=0, inplace=True)"
   ]
  },
  {
   "cell_type": "code",
   "execution_count": 24,
   "metadata": {},
   "outputs": [
    {
     "data": {
      "text/plain": [
       "0"
      ]
     },
     "execution_count": 24,
     "metadata": {},
     "output_type": "execute_result"
    }
   ],
   "source": [
    "pred_df.duplicated().sum()"
   ]
  },
  {
   "cell_type": "code",
   "execution_count": 25,
   "metadata": {},
   "outputs": [
    {
     "data": {
      "text/plain": [
       "VarianceThreshold(threshold=0.25)"
      ]
     },
     "execution_count": 25,
     "metadata": {},
     "output_type": "execute_result"
    }
   ],
   "source": [
    "# Let's check if we have any constant columns with very minimal variance\n",
    "# If the variance is very minimal, we don't need those columns\n",
    "\n",
    "from sklearn.feature_selection import VarianceThreshold\n",
    "var_thresh = VarianceThreshold(threshold=0.25)\n",
    "var_thresh.fit(pred_df[['Air temperature [K]', 'Process temperature [K]', 'Rotational speed [rpm]', 'Tool wear [min]', \n",
    "                        'Torque [Nm]']])"
   ]
  },
  {
   "cell_type": "code",
   "execution_count": 26,
   "metadata": {},
   "outputs": [
    {
     "data": {
      "text/plain": [
       "array([ True,  True,  True,  True,  True])"
      ]
     },
     "execution_count": 26,
     "metadata": {},
     "output_type": "execute_result"
    }
   ],
   "source": [
    "var_thresh.get_support()"
   ]
  },
  {
   "cell_type": "code",
   "execution_count": 27,
   "metadata": {},
   "outputs": [
    {
     "data": {
      "text/plain": [
       "Index(['Type', 'Air temperature [K]', 'Process temperature [K]',\n",
       "       'Rotational speed [rpm]', 'Torque [Nm]', 'Tool wear [min]', 'Target',\n",
       "       'Failure Type'],\n",
       "      dtype='object')"
      ]
     },
     "execution_count": 27,
     "metadata": {},
     "output_type": "execute_result"
    }
   ],
   "source": [
    "pred_df.columns"
   ]
  },
  {
   "cell_type": "code",
   "execution_count": 28,
   "metadata": {},
   "outputs": [
    {
     "data": {
      "text/html": [
       "<div>\n",
       "<style scoped>\n",
       "    .dataframe tbody tr th:only-of-type {\n",
       "        vertical-align: middle;\n",
       "    }\n",
       "\n",
       "    .dataframe tbody tr th {\n",
       "        vertical-align: top;\n",
       "    }\n",
       "\n",
       "    .dataframe thead th {\n",
       "        text-align: right;\n",
       "    }\n",
       "</style>\n",
       "<table border=\"1\" class=\"dataframe\">\n",
       "  <thead>\n",
       "    <tr style=\"text-align: right;\">\n",
       "      <th></th>\n",
       "      <th>Air temperature [K]</th>\n",
       "      <th>Process temperature [K]</th>\n",
       "      <th>Rotational speed [rpm]</th>\n",
       "      <th>Torque [Nm]</th>\n",
       "      <th>Tool wear [min]</th>\n",
       "      <th>Target</th>\n",
       "      <th>Failure Type</th>\n",
       "      <th>Type_L</th>\n",
       "      <th>Type_M</th>\n",
       "    </tr>\n",
       "  </thead>\n",
       "  <tbody>\n",
       "    <tr>\n",
       "      <th>0</th>\n",
       "      <td>298.1</td>\n",
       "      <td>308.6</td>\n",
       "      <td>1551</td>\n",
       "      <td>42.8</td>\n",
       "      <td>0</td>\n",
       "      <td>0</td>\n",
       "      <td>No Failure</td>\n",
       "      <td>0</td>\n",
       "      <td>1</td>\n",
       "    </tr>\n",
       "    <tr>\n",
       "      <th>1</th>\n",
       "      <td>298.2</td>\n",
       "      <td>308.7</td>\n",
       "      <td>1408</td>\n",
       "      <td>46.3</td>\n",
       "      <td>3</td>\n",
       "      <td>0</td>\n",
       "      <td>No Failure</td>\n",
       "      <td>1</td>\n",
       "      <td>0</td>\n",
       "    </tr>\n",
       "    <tr>\n",
       "      <th>2</th>\n",
       "      <td>298.1</td>\n",
       "      <td>308.5</td>\n",
       "      <td>1498</td>\n",
       "      <td>49.4</td>\n",
       "      <td>5</td>\n",
       "      <td>0</td>\n",
       "      <td>No Failure</td>\n",
       "      <td>1</td>\n",
       "      <td>0</td>\n",
       "    </tr>\n",
       "    <tr>\n",
       "      <th>3</th>\n",
       "      <td>298.2</td>\n",
       "      <td>308.6</td>\n",
       "      <td>1433</td>\n",
       "      <td>39.5</td>\n",
       "      <td>7</td>\n",
       "      <td>0</td>\n",
       "      <td>No Failure</td>\n",
       "      <td>1</td>\n",
       "      <td>0</td>\n",
       "    </tr>\n",
       "    <tr>\n",
       "      <th>4</th>\n",
       "      <td>298.2</td>\n",
       "      <td>308.7</td>\n",
       "      <td>1408</td>\n",
       "      <td>40.0</td>\n",
       "      <td>9</td>\n",
       "      <td>0</td>\n",
       "      <td>No Failure</td>\n",
       "      <td>1</td>\n",
       "      <td>0</td>\n",
       "    </tr>\n",
       "  </tbody>\n",
       "</table>\n",
       "</div>"
      ],
      "text/plain": [
       "   Air temperature [K]  Process temperature [K]  Rotational speed [rpm]  \\\n",
       "0                298.1                    308.6                    1551   \n",
       "1                298.2                    308.7                    1408   \n",
       "2                298.1                    308.5                    1498   \n",
       "3                298.2                    308.6                    1433   \n",
       "4                298.2                    308.7                    1408   \n",
       "\n",
       "   Torque [Nm]  Tool wear [min]  Target Failure Type  Type_L  Type_M  \n",
       "0         42.8                0       0   No Failure       0       1  \n",
       "1         46.3                3       0   No Failure       1       0  \n",
       "2         49.4                5       0   No Failure       1       0  \n",
       "3         39.5                7       0   No Failure       1       0  \n",
       "4         40.0                9       0   No Failure       1       0  "
      ]
     },
     "execution_count": 28,
     "metadata": {},
     "output_type": "execute_result"
    }
   ],
   "source": [
    "# We don't have any columns that have variance of 0.25 or less\n",
    "# Let's now create dummy variables for the Type column\n",
    "\n",
    "new_df = pred_df.copy()\n",
    "\n",
    "new_df = pd.get_dummies(pred_df, columns=['Type'], drop_first=True)\n",
    "new_df.head()"
   ]
  },
  {
   "cell_type": "code",
   "execution_count": 29,
   "metadata": {},
   "outputs": [
    {
     "data": {
      "text/plain": [
       "array(['No Failure', 'Power Failure', 'Tool Wear Failure',\n",
       "       'Overstrain Failure', 'Random Failures',\n",
       "       'Heat Dissipation Failure'], dtype=object)"
      ]
     },
     "execution_count": 29,
     "metadata": {},
     "output_type": "execute_result"
    }
   ],
   "source": [
    "new_df['Failure Type'].unique()"
   ]
  },
  {
   "cell_type": "code",
   "execution_count": 30,
   "metadata": {},
   "outputs": [
    {
     "data": {
      "text/html": [
       "<div>\n",
       "<style scoped>\n",
       "    .dataframe tbody tr th:only-of-type {\n",
       "        vertical-align: middle;\n",
       "    }\n",
       "\n",
       "    .dataframe tbody tr th {\n",
       "        vertical-align: top;\n",
       "    }\n",
       "\n",
       "    .dataframe thead th {\n",
       "        text-align: right;\n",
       "    }\n",
       "</style>\n",
       "<table border=\"1\" class=\"dataframe\">\n",
       "  <thead>\n",
       "    <tr style=\"text-align: right;\">\n",
       "      <th></th>\n",
       "      <th>Air temperature [K]</th>\n",
       "      <th>Process temperature [K]</th>\n",
       "      <th>Rotational speed [rpm]</th>\n",
       "      <th>Torque [Nm]</th>\n",
       "      <th>Tool wear [min]</th>\n",
       "      <th>Target</th>\n",
       "      <th>Failure Type</th>\n",
       "      <th>Type_L</th>\n",
       "      <th>Type_M</th>\n",
       "    </tr>\n",
       "  </thead>\n",
       "  <tbody>\n",
       "    <tr>\n",
       "      <th>0</th>\n",
       "      <td>298.1</td>\n",
       "      <td>308.6</td>\n",
       "      <td>1551</td>\n",
       "      <td>42.8</td>\n",
       "      <td>0</td>\n",
       "      <td>0</td>\n",
       "      <td>0</td>\n",
       "      <td>0</td>\n",
       "      <td>1</td>\n",
       "    </tr>\n",
       "    <tr>\n",
       "      <th>1</th>\n",
       "      <td>298.2</td>\n",
       "      <td>308.7</td>\n",
       "      <td>1408</td>\n",
       "      <td>46.3</td>\n",
       "      <td>3</td>\n",
       "      <td>0</td>\n",
       "      <td>0</td>\n",
       "      <td>1</td>\n",
       "      <td>0</td>\n",
       "    </tr>\n",
       "    <tr>\n",
       "      <th>2</th>\n",
       "      <td>298.1</td>\n",
       "      <td>308.5</td>\n",
       "      <td>1498</td>\n",
       "      <td>49.4</td>\n",
       "      <td>5</td>\n",
       "      <td>0</td>\n",
       "      <td>0</td>\n",
       "      <td>1</td>\n",
       "      <td>0</td>\n",
       "    </tr>\n",
       "    <tr>\n",
       "      <th>3</th>\n",
       "      <td>298.2</td>\n",
       "      <td>308.6</td>\n",
       "      <td>1433</td>\n",
       "      <td>39.5</td>\n",
       "      <td>7</td>\n",
       "      <td>0</td>\n",
       "      <td>0</td>\n",
       "      <td>1</td>\n",
       "      <td>0</td>\n",
       "    </tr>\n",
       "    <tr>\n",
       "      <th>4</th>\n",
       "      <td>298.2</td>\n",
       "      <td>308.7</td>\n",
       "      <td>1408</td>\n",
       "      <td>40.0</td>\n",
       "      <td>9</td>\n",
       "      <td>0</td>\n",
       "      <td>0</td>\n",
       "      <td>1</td>\n",
       "      <td>0</td>\n",
       "    </tr>\n",
       "  </tbody>\n",
       "</table>\n",
       "</div>"
      ],
      "text/plain": [
       "   Air temperature [K]  Process temperature [K]  Rotational speed [rpm]  \\\n",
       "0                298.1                    308.6                    1551   \n",
       "1                298.2                    308.7                    1408   \n",
       "2                298.1                    308.5                    1498   \n",
       "3                298.2                    308.6                    1433   \n",
       "4                298.2                    308.7                    1408   \n",
       "\n",
       "   Torque [Nm]  Tool wear [min]  Target  Failure Type  Type_L  Type_M  \n",
       "0         42.8                0       0             0       0       1  \n",
       "1         46.3                3       0             0       1       0  \n",
       "2         49.4                5       0             0       1       0  \n",
       "3         39.5                7       0             0       1       0  \n",
       "4         40.0                9       0             0       1       0  "
      ]
     },
     "execution_count": 30,
     "metadata": {},
     "output_type": "execute_result"
    }
   ],
   "source": [
    "# Let's Cat Encode Failure Type column\n",
    "\n",
    "cat_dict = {'No Failure' : 0, 'Heat Dissipation Failure' : 1, 'Power Failure' : 2, \n",
    "            'Overstrain Failure' : 3, 'Random Failures' : 4, 'Tool Wear Failure' : 5}\n",
    "\n",
    "new_df['Failure Type'] = new_df['Failure Type'].map(cat_dict)\n",
    "new_df.head()"
   ]
  },
  {
   "cell_type": "code",
   "execution_count": 31,
   "metadata": {},
   "outputs": [
    {
     "data": {
      "text/plain": [
       "0    9643\n",
       "1     112\n",
       "2      95\n",
       "3      78\n",
       "5      45\n",
       "4      18\n",
       "Name: Failure Type, dtype: int64"
      ]
     },
     "execution_count": 31,
     "metadata": {},
     "output_type": "execute_result"
    }
   ],
   "source": [
    "new_df['Failure Type'].value_counts()"
   ]
  },
  {
   "cell_type": "code",
   "execution_count": 32,
   "metadata": {},
   "outputs": [
    {
     "name": "stdout",
     "output_type": "stream",
     "text": [
      "   Air temperature [K]  Process temperature [K]  Rotational speed [rpm]  \\\n",
      "0                298.1                    308.6                    1551   \n",
      "1                298.2                    308.7                    1408   \n",
      "2                298.1                    308.5                    1498   \n",
      "3                298.2                    308.6                    1433   \n",
      "4                298.2                    308.7                    1408   \n",
      "\n",
      "   Torque [Nm]  Tool wear [min]  Type_L  Type_M  \n",
      "0         42.8                0       0       1  \n",
      "1         46.3                3       1       0  \n",
      "2         49.4                5       1       0  \n",
      "3         39.5                7       1       0  \n",
      "4         40.0                9       1       0  \n",
      "\n",
      "0    0\n",
      "1    0\n",
      "2    0\n",
      "3    0\n",
      "4    0\n",
      "Name: Failure Type, dtype: int64\n"
     ]
    }
   ],
   "source": [
    "# Let's now split the dataset for model building\n",
    "# We will not include the Target column because we already have Failure Type column\n",
    "\n",
    "X = new_df.drop(['Target', 'Failure Type'], axis=1)\n",
    "y = new_df['Failure Type']\n",
    "\n",
    "print(X.head())\n",
    "print()\n",
    "print(y.head())"
   ]
  },
  {
   "cell_type": "code",
   "execution_count": 72,
   "metadata": {},
   "outputs": [
    {
     "name": "stdout",
     "output_type": "stream",
     "text": [
      "(6993, 7)\n",
      "(2998, 7)\n",
      "(6993,)\n",
      "(2998,)\n"
     ]
    }
   ],
   "source": [
    "# Our dataset if imbalanced. We will still build a baseline model to check the accuracy\n",
    "\n",
    "from sklearn.model_selection import train_test_split\n",
    "X_train, X_test, y_train, y_test = train_test_split( X, y, test_size = 0.3, stratify = y, random_state = 2 )\n",
    "\n",
    "print(X_train.shape)\n",
    "print(X_test.shape)\n",
    "\n",
    "print(y_train.shape)\n",
    "print(y_test.shape)"
   ]
  },
  {
   "cell_type": "code",
   "execution_count": 73,
   "metadata": {},
   "outputs": [
    {
     "data": {
      "text/plain": [
       "SVC()"
      ]
     },
     "execution_count": 73,
     "metadata": {},
     "output_type": "execute_result"
    }
   ],
   "source": [
    "# Let's build a baseline model and see how does the model performs\n",
    "\n",
    "from sklearn.svm import SVC\n",
    "\n",
    "svc = SVC()\n",
    "svc.fit(X_train, y_train)"
   ]
  },
  {
   "cell_type": "code",
   "execution_count": 74,
   "metadata": {},
   "outputs": [
    {
     "name": "stdout",
     "output_type": "stream",
     "text": [
      "ACcuracy:  0.9653102068045364\n",
      "\n",
      "Confusion Matrix: \n",
      " [[2894    0    0    0    0    0]\n",
      " [  34    0    0    0    0    0]\n",
      " [  29    0    0    0    0    0]\n",
      " [  23    0    0    0    0    0]\n",
      " [   5    0    0    0    0    0]\n",
      " [  13    0    0    0    0    0]]\n",
      "\n",
      "Classification Report: \n",
      "               precision    recall  f1-score   support\n",
      "\n",
      "           0       0.97      1.00      0.98      2894\n",
      "           1       0.00      0.00      0.00        34\n",
      "           2       0.00      0.00      0.00        29\n",
      "           3       0.00      0.00      0.00        23\n",
      "           4       0.00      0.00      0.00         5\n",
      "           5       0.00      0.00      0.00        13\n",
      "\n",
      "    accuracy                           0.97      2998\n",
      "   macro avg       0.16      0.17      0.16      2998\n",
      "weighted avg       0.93      0.97      0.95      2998\n",
      "\n"
     ]
    }
   ],
   "source": [
    "y_pred = svc.predict(X_test)\n",
    "\n",
    "from sklearn import metrics\n",
    "\n",
    "print('ACcuracy: ', metrics.accuracy_score(y_test, y_pred))\n",
    "print()\n",
    "\n",
    "print('Confusion Matrix: \\n', metrics.confusion_matrix(y_test, y_pred))\n",
    "print()\n",
    "\n",
    "print('Classification Report: \\n', metrics.classification_report(y_test, y_pred))"
   ]
  },
  {
   "cell_type": "code",
   "execution_count": 75,
   "metadata": {},
   "outputs": [],
   "source": [
    "from imblearn.over_sampling import RandomOverSampler, SMOTE\n",
    "\n",
    "ros = RandomOverSampler(random_state=2)\n",
    "X_train_res, y_train_res = ros.fit_resample(X_train, y_train)"
   ]
  },
  {
   "cell_type": "code",
   "execution_count": 76,
   "metadata": {},
   "outputs": [
    {
     "data": {
      "text/plain": [
       "0    6749\n",
       "3    6749\n",
       "1    6749\n",
       "2    6749\n",
       "5    6749\n",
       "4    6749\n",
       "Name: Failure Type, dtype: int64"
      ]
     },
     "execution_count": 76,
     "metadata": {},
     "output_type": "execute_result"
    }
   ],
   "source": [
    "y_train_res.value_counts()"
   ]
  },
  {
   "cell_type": "code",
   "execution_count": 81,
   "metadata": {},
   "outputs": [
    {
     "name": "stdout",
     "output_type": "stream",
     "text": [
      "Accuracy:  0.4132755170113409\n",
      "\n",
      "Confusion Matrix: \n",
      " [[1160  393   20  121  945  255]\n",
      " [   0   30    0    4    0    0]\n",
      " [   0    9   14    3    2    1]\n",
      " [   0    0    0   21    0    2]\n",
      " [   1    1    0    0    3    0]\n",
      " [   0    0    0    2    0   11]]\n",
      "\n",
      "Classification Report: \n",
      "               precision    recall  f1-score   support\n",
      "\n",
      "           0       1.00      0.40      0.57      2894\n",
      "           1       0.07      0.88      0.13        34\n",
      "           2       0.41      0.48      0.44        29\n",
      "           3       0.14      0.91      0.24        23\n",
      "           4       0.00      0.60      0.01         5\n",
      "           5       0.04      0.85      0.08        13\n",
      "\n",
      "    accuracy                           0.41      2998\n",
      "   macro avg       0.28      0.69      0.25      2998\n",
      "weighted avg       0.97      0.41      0.56      2998\n",
      "\n"
     ]
    }
   ],
   "source": [
    "svc = SVC()\n",
    "svc.fit(X_train_res, y_train_res)\n",
    "\n",
    "y_pred = svc.predict(X_test)\n",
    "\n",
    "print('Accuracy: ', metrics.accuracy_score(y_test, y_pred))\n",
    "print()\n",
    "\n",
    "print('Confusion Matrix: \\n', metrics.confusion_matrix(y_test, y_pred))\n",
    "print()\n",
    "\n",
    "print('Classification Report: \\n', metrics.classification_report(y_test, y_pred))"
   ]
  },
  {
   "cell_type": "code",
   "execution_count": 44,
   "metadata": {},
   "outputs": [
    {
     "name": "stdout",
     "output_type": "stream",
     "text": [
      "Accuracy:  0.9319659829914958\n",
      "\n",
      "Confusion Matrix: \n",
      " [[1836   39    6   14    7   27]\n",
      " [  15    6    1    0    0    0]\n",
      " [   3    2   11    3    0    0]\n",
      " [   2    1    3   10    0    0]\n",
      " [   4    0    0    0    0    0]\n",
      " [   7    0    0    2    0    0]]\n",
      "\n",
      "Classification Report: \n",
      "               precision    recall  f1-score   support\n",
      "\n",
      "           0       0.98      0.95      0.97      1929\n",
      "           1       0.12      0.27      0.17        22\n",
      "           2       0.52      0.58      0.55        19\n",
      "           3       0.34      0.62      0.44        16\n",
      "           4       0.00      0.00      0.00         4\n",
      "           5       0.00      0.00      0.00         9\n",
      "\n",
      "    accuracy                           0.93      1999\n",
      "   macro avg       0.33      0.40      0.36      1999\n",
      "weighted avg       0.96      0.93      0.94      1999\n",
      "\n"
     ]
    }
   ],
   "source": [
    "from sklearn.neighbors import KNeighborsClassifier\n",
    "\n",
    "knn = KNeighborsClassifier(n_neighbors=5)\n",
    "\n",
    "knn.fit(X_train_res, y_train_res)\n",
    "\n",
    "y_pred = knn.predict(X_test)\n",
    "\n",
    "print('Accuracy: ', metrics.accuracy_score(y_test, y_pred))\n",
    "print()\n",
    "\n",
    "print('Confusion Matrix: \\n', metrics.confusion_matrix(y_test, y_pred))\n",
    "print()\n",
    "\n",
    "print('Classification Report: \\n', metrics.classification_report(y_test, y_pred))"
   ]
  },
  {
   "cell_type": "markdown",
   "metadata": {},
   "source": [
    "### KNN is working well on our dataset\n",
    "### We will tune this model to see if the performance increases"
   ]
  },
  {
   "cell_type": "code",
   "execution_count": 66,
   "metadata": {},
   "outputs": [
    {
     "data": {
      "text/html": [
       "<div>\n",
       "<style scoped>\n",
       "    .dataframe tbody tr th:only-of-type {\n",
       "        vertical-align: middle;\n",
       "    }\n",
       "\n",
       "    .dataframe tbody tr th {\n",
       "        vertical-align: top;\n",
       "    }\n",
       "\n",
       "    .dataframe thead th {\n",
       "        text-align: right;\n",
       "    }\n",
       "</style>\n",
       "<table border=\"1\" class=\"dataframe\">\n",
       "  <thead>\n",
       "    <tr style=\"text-align: right;\">\n",
       "      <th></th>\n",
       "      <th>Air temperature [K]</th>\n",
       "      <th>Process temperature [K]</th>\n",
       "      <th>Rotational speed [rpm]</th>\n",
       "      <th>Torque [Nm]</th>\n",
       "      <th>Tool wear [min]</th>\n",
       "      <th>Type_L</th>\n",
       "      <th>Type_M</th>\n",
       "    </tr>\n",
       "  </thead>\n",
       "  <tbody>\n",
       "    <tr>\n",
       "      <th>0</th>\n",
       "      <td>-0.772215</td>\n",
       "      <td>-1.120751</td>\n",
       "      <td>0.097859</td>\n",
       "      <td>-0.035796</td>\n",
       "      <td>-1.806991</td>\n",
       "      <td>0.733776</td>\n",
       "      <td>-0.534018</td>\n",
       "    </tr>\n",
       "    <tr>\n",
       "      <th>1</th>\n",
       "      <td>-1.305447</td>\n",
       "      <td>-1.663710</td>\n",
       "      <td>-0.320817</td>\n",
       "      <td>0.159850</td>\n",
       "      <td>-1.503565</td>\n",
       "      <td>0.733776</td>\n",
       "      <td>-0.534018</td>\n",
       "    </tr>\n",
       "    <tr>\n",
       "      <th>2</th>\n",
       "      <td>-0.820691</td>\n",
       "      <td>-0.985011</td>\n",
       "      <td>-0.225214</td>\n",
       "      <td>-0.366369</td>\n",
       "      <td>-1.028636</td>\n",
       "      <td>-1.362813</td>\n",
       "      <td>1.872598</td>\n",
       "    </tr>\n",
       "    <tr>\n",
       "      <th>3</th>\n",
       "      <td>1.457665</td>\n",
       "      <td>1.390435</td>\n",
       "      <td>1.439602</td>\n",
       "      <td>-1.675171</td>\n",
       "      <td>-0.382205</td>\n",
       "      <td>0.733776</td>\n",
       "      <td>-0.534018</td>\n",
       "    </tr>\n",
       "    <tr>\n",
       "      <th>4</th>\n",
       "      <td>-0.917642</td>\n",
       "      <td>-0.306312</td>\n",
       "      <td>0.420933</td>\n",
       "      <td>-0.764407</td>\n",
       "      <td>0.871080</td>\n",
       "      <td>0.733776</td>\n",
       "      <td>-0.534018</td>\n",
       "    </tr>\n",
       "  </tbody>\n",
       "</table>\n",
       "</div>"
      ],
      "text/plain": [
       "   Air temperature [K]  Process temperature [K]  Rotational speed [rpm]  \\\n",
       "0            -0.772215                -1.120751                0.097859   \n",
       "1            -1.305447                -1.663710               -0.320817   \n",
       "2            -0.820691                -0.985011               -0.225214   \n",
       "3             1.457665                 1.390435                1.439602   \n",
       "4            -0.917642                -0.306312                0.420933   \n",
       "\n",
       "   Torque [Nm]  Tool wear [min]    Type_L    Type_M  \n",
       "0    -0.035796        -1.806991  0.733776 -0.534018  \n",
       "1     0.159850        -1.503565  0.733776 -0.534018  \n",
       "2    -0.366369        -1.028636 -1.362813  1.872598  \n",
       "3    -1.675171        -0.382205  0.733776 -0.534018  \n",
       "4    -0.764407         0.871080  0.733776 -0.534018  "
      ]
     },
     "execution_count": 66,
     "metadata": {},
     "output_type": "execute_result"
    }
   ],
   "source": [
    "from sklearn.preprocessing import StandardScaler\n",
    "\n",
    "scaler = StandardScaler()\n",
    "X_train_sc = scaler.fit_transform(X_train_res)\n",
    "\n",
    "X_test_sc = scaler.transform(X_test)\n",
    "\n",
    "X_train_sc = pd.DataFrame(X_train_sc, columns=X_train_res.columns)\n",
    "X_test_sc = pd.DataFrame(X_test_sc, columns=X_train_res.columns)\n",
    "\n",
    "X_train_sc.head()"
   ]
  },
  {
   "cell_type": "code",
   "execution_count": 67,
   "metadata": {},
   "outputs": [],
   "source": [
    "# We are already getting high accuracy because of the imbalance ness of the classes\n",
    "# Hence, we will here use re-call score to find the best K value\n",
    "\n",
    "from sklearn.model_selection import cross_val_score\n",
    "\n",
    "rec_score = []\n",
    "\n",
    "for i in range (1, 30): \n",
    "    KNN = KNeighborsClassifier(n_neighbors=i)\n",
    "    score = cross_val_score(KNN, X_train_sc, y_train_res, cv=10)\n",
    "    rec_score.append(score.mean())"
   ]
  },
  {
   "cell_type": "code",
   "execution_count": 68,
   "metadata": {},
   "outputs": [],
   "source": [
    "err_rate = []\n",
    "\n",
    "for i in range (1, 30): \n",
    "    KNN = KNeighborsClassifier(n_neighbors=i)\n",
    "    KNN.fit(X_train_sc, y_train_res)\n",
    "    pred_i = KNN.predict(X_test_sc)\n",
    "\n",
    "    err_rate.append(np.mean(pred_i != y_test))"
   ]
  },
  {
   "cell_type": "code",
   "execution_count": 69,
   "metadata": {},
   "outputs": [
    {
     "data": {
      "text/plain": [
       "Text(0, 0.5, 'Error Rate')"
      ]
     },
     "execution_count": 69,
     "metadata": {},
     "output_type": "execute_result"
    },
    {
     "data": {
      "image/png": "[encoded data removed]",
      "text/plain": [
       "<Figure size 1080x576 with 1 Axes>"
      ]
     },
     "metadata": {
      "needs_background": "light"
     },
     "output_type": "display_data"
    }
   ],
   "source": [
    "plt.figure(figsize=(15, 8))\n",
    "\n",
    "plt.plot(range(1, 30), err_rate, color = 'blue', linestyle = 'dashed', marker = 'o', \n",
    "         markerfacecolor = 'red', markersize = 10)\n",
    "\n",
    "plt.title('Error Rate vs K-values')\n",
    "plt.xlabel('K-values')\n",
    "plt.ylabel('Error Rate')"
   ]
  },
  {
   "cell_type": "code",
   "execution_count": 70,
   "metadata": {},
   "outputs": [
    {
     "data": {
      "text/plain": [
       "Text(0, 0.5, 'Recall Score')"
      ]
     },
     "execution_count": 70,
     "metadata": {},
     "output_type": "execute_result"
    },
    {
     "data": {
      "image/png": "[encoded data removed]",
      "text/plain": [
       "<Figure size 1080x576 with 1 Axes>"
      ]
     },
     "metadata": {
      "needs_background": "light"
     },
     "output_type": "display_data"
    }
   ],
   "source": [
    "plt.figure(figsize=(15, 8))\n",
    "\n",
    "plt.plot(range(1, 30), rec_score, color = 'blue', linestyle = 'dashed', marker = 'o', \n",
    "         markerfacecolor = 'red', markersize = 10)\n",
    "\n",
    "plt.title('Recall Score vs K-values')\n",
    "plt.xlabel('K-values')\n",
    "plt.ylabel('Recall Score')"
   ]
  },
  {
   "cell_type": "code",
   "execution_count": 71,
   "metadata": {},
   "outputs": [
    {
     "name": "stdout",
     "output_type": "stream",
     "text": [
      "Accuracy:  0.9584688516387291\n",
      "\n",
      "Confusion Matrix: \n",
      " [[3759   32   17    9   13   28]\n",
      " [  15   29    1    0    0    0]\n",
      " [   8    3   25    2    0    0]\n",
      " [   9    1    4   17    0    0]\n",
      " [   7    0    0    0    0    0]\n",
      " [  16    0    0    1    0    1]]\n",
      "\n",
      "Classification Report: \n",
      "               precision    recall  f1-score   support\n",
      "\n",
      "           0       0.99      0.97      0.98      3858\n",
      "           1       0.45      0.64      0.53        45\n",
      "           2       0.53      0.66      0.59        38\n",
      "           3       0.59      0.55      0.57        31\n",
      "           4       0.00      0.00      0.00         7\n",
      "           5       0.03      0.06      0.04        18\n",
      "\n",
      "    accuracy                           0.96      3997\n",
      "   macro avg       0.43      0.48      0.45      3997\n",
      "weighted avg       0.97      0.96      0.96      3997\n",
      "\n"
     ]
    }
   ],
   "source": [
    "knn = KNeighborsClassifier(n_neighbors=3)\n",
    "\n",
    "knn.fit(X_train_sc, y_train_res)\n",
    "\n",
    "y_pred = knn.predict(X_test_sc)\n",
    "\n",
    "print('Accuracy: ', metrics.accuracy_score(y_test, y_pred))\n",
    "print()\n",
    "\n",
    "print('Confusion Matrix: \\n', metrics.confusion_matrix(y_test, y_pred))\n",
    "print()\n",
    "\n",
    "print('Classification Report: \\n', metrics.classification_report(y_test, y_pred))"
   ]
  },
  {
   "cell_type": "code",
   "execution_count": 80,
   "metadata": {},
   "outputs": [
    {
     "name": "stdout",
     "output_type": "stream",
     "text": [
      "Accuracy:  0.8795863909272849\n",
      "\n",
      "Confusion Matrix: \n",
      " [[2547   69   18   16  127  117]\n",
      " [   1   33    0    0    0    0]\n",
      " [   1    1   25    2    0    0]\n",
      " [   1    0    0   22    0    0]\n",
      " [   4    0    0    0    1    0]\n",
      " [   2    1    0    1    0    9]]\n",
      "\n",
      "Classification Report: \n",
      "               precision    recall  f1-score   support\n",
      "\n",
      "           0       1.00      0.88      0.93      2894\n",
      "           1       0.32      0.97      0.48        34\n",
      "           2       0.58      0.86      0.69        29\n",
      "           3       0.54      0.96      0.69        23\n",
      "           4       0.01      0.20      0.02         5\n",
      "           5       0.07      0.69      0.13        13\n",
      "\n",
      "    accuracy                           0.88      2998\n",
      "   macro avg       0.42      0.76      0.49      2998\n",
      "weighted avg       0.98      0.88      0.92      2998\n",
      "\n"
     ]
    }
   ],
   "source": [
    "# KNN is not generalizing well if we change the train test split sizes\n",
    "# However, we earlier trained SVC only on the resampled data and not on the scaled one\n",
    "# So, we will now train SVC again on scaled data to check if performance changes\n",
    "\n",
    "svc = SVC()\n",
    "svc.fit(X_train_sc, y_train_res)\n",
    "\n",
    "y_pred = svc.predict(X_test_sc)\n",
    "\n",
    "print('Accuracy: ', metrics.accuracy_score(y_test, y_pred))\n",
    "print()\n",
    "\n",
    "print('Confusion Matrix: \\n', metrics.confusion_matrix(y_test, y_pred))\n",
    "print()\n",
    "\n",
    "print('Classification Report: \\n', metrics.classification_report(y_test, y_pred))"
   ]
  },
  {
   "cell_type": "markdown",
   "metadata": {},
   "source": [
    "### Great! SVC is generalizing well with the scaled data as compared to KNN model\n",
    "### So, now we will tune the SVC model even further to get the best possible outcome"
   ]
  },
  {
   "cell_type": "code",
   "execution_count": 83,
   "metadata": {},
   "outputs": [
    {
     "name": "stdout",
     "output_type": "stream",
     "text": [
      "Fitting 10 folds for each of 120 candidates, totalling 1200 fits\n"
     ]
    },
    {
     "data": {
      "text/plain": [
       "GridSearchCV(cv=10, estimator=SVC(), n_jobs=-1,\n",
       "             param_grid={'C': [0.1, 0.5, 1, 10, 50, 100],\n",
       "                         'degree': [1, 2, 3, 4, 5],\n",
       "                         'kernel': ['rbf', 'linear', 'sigmoid', 'poly']},\n",
       "             verbose=2)"
      ]
     },
     "execution_count": 83,
     "metadata": {},
     "output_type": "execute_result"
    }
   ],
   "source": [
    "from sklearn.model_selection import GridSearchCV\n",
    "\n",
    "params = {'C': [0.1, 0.5, 1, 10, 50, 100], \n",
    "          'kernel': ['rbf', 'linear', 'sigmoid', 'poly'], \n",
    "          'degree': [1, 2, 3, 4, 5]}\n",
    "\n",
    "grid = GridSearchCV(SVC(), param_grid=params, n_jobs=-1, cv = 10, verbose=2)\n",
    "\n",
    "grid.fit(X_train_sc, y_train_res)"
   ]
  },
  {
   "cell_type": "code",
   "execution_count": 84,
   "metadata": {},
   "outputs": [
    {
     "name": "stdout",
     "output_type": "stream",
     "text": [
      "{'C': 100, 'degree': 1, 'kernel': 'rbf'}\n",
      "0.9623082054703136\n"
     ]
    }
   ],
   "source": [
    "print(grid.best_params_)\n",
    "print(grid.score(X_test_sc, y_test))"
   ]
  },
  {
   "cell_type": "code",
   "execution_count": 93,
   "metadata": {},
   "outputs": [
    {
     "name": "stdout",
     "output_type": "stream",
     "text": [
      "Accuracy:  0.923282188125417\n",
      "\n",
      "Confusion Matrix: \n",
      " [[2681   48    9   12   65   79]\n",
      " [   1   33    0    0    0    0]\n",
      " [   5    0   23    1    0    0]\n",
      " [   0    0    1   22    0    0]\n",
      " [   4    0    0    0    1    0]\n",
      " [   4    0    0    1    0    8]]\n",
      "\n",
      "Classification Report: \n",
      "               precision    recall  f1-score   support\n",
      "\n",
      "           0       0.99      0.93      0.96      2894\n",
      "           1       0.41      0.97      0.57        34\n",
      "           2       0.70      0.79      0.74        29\n",
      "           3       0.61      0.96      0.75        23\n",
      "           4       0.02      0.20      0.03         5\n",
      "           5       0.09      0.62      0.16        13\n",
      "\n",
      "    accuracy                           0.92      2998\n",
      "   macro avg       0.47      0.74      0.53      2998\n",
      "weighted avg       0.98      0.92      0.95      2998\n",
      "\n"
     ]
    }
   ],
   "source": [
    "svc_final = SVC(C=5.0, kernel='rbf', degree=1)\n",
    "\n",
    "svc_final.fit(X_train_sc, y_train_res)\n",
    "\n",
    "y_pred_final = svc_final.predict(X_test_sc)\n",
    "\n",
    "print('Accuracy: ', metrics.accuracy_score(y_test, y_pred_final))\n",
    "print()\n",
    "\n",
    "print('Confusion Matrix: \\n', metrics.confusion_matrix(y_test, y_pred_final))\n",
    "print()\n",
    "\n",
    "print('Classification Report: \\n', metrics.classification_report(y_test, y_pred_final))"
   ]
  },
  {
   "cell_type": "code",
   "execution_count": 109,
   "metadata": {},
   "outputs": [],
   "source": [
    "# Saving the model for future use\n",
    "import pickle\n",
    "\n",
    "# open a file, where you ant to store the data\n",
    "file = open('pred_maintenance.pkl', 'wb+')\n",
    "\n",
    "# dump information to that file\n",
    "pickle.dump(svc_final, file)"
   ]
  },
  {
   "cell_type": "code",
   "execution_count": 112,
   "metadata": {},
   "outputs": [
    {
     "name": "stdout",
     "output_type": "stream",
     "text": [
      "0.923282188125417\n"
     ]
    }
   ],
   "source": [
    "model = open(\"pred_maintenance.pkl\", \"rb+\")\n",
    "\n",
    "import pickle\n",
    "\n",
    "support_vector = pickle.load(model)\n",
    "\n",
    "Y_prediction = support_vector.predict(X_test_sc)\n",
    "\n",
    "print(metrics.accuracy_score(y_test, Y_prediction))"
   ]
  },
  {
   "cell_type": "markdown",
   "metadata": {},
   "source": [
    "### Our Model's accuracy is around 92.33%. But, considering that it is an imbalanced dataset, we are more interested in Recall score\n",
    "### Recall is nothing but how good is the model in learning and generalizing and then predicting the correct positives (TP / TP + FN)"
   ]
  }
 ],
 "metadata": {
  "interpreter": {
   "hash": "19bc09187cd1396e9ca155997137dad06790221eb4fb5a947d1649487a0655da"
  },
  "kernelspec": {
   "display_name": "Python 3.10.0 64-bit",
   "language": "python",
   "name": "python3"
  },
  "language_info": {
   "codemirror_mode": {
    "name": "ipython",
    "version": 3
   },
   "file_extension": ".py",
   "mimetype": "text/x-python",
   "name": "python",
   "nbconvert_exporter": "python",
   "pygments_lexer": "ipython3",
   "version": "3.10.0"
  },
  "orig_nbformat": 4
 },
 "nbformat": 4,
 "nbformat_minor": 2
}
